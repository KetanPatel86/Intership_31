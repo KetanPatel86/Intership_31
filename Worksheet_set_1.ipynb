{
 "cells": [
  {
   "cell_type": "code",
   "execution_count": 9,
   "id": "b6e51485",
   "metadata": {},
   "outputs": [
    {
     "name": "stdout",
     "output_type": "stream",
     "text": [
      "Factorial of 2 is 2\n"
     ]
    }
   ],
   "source": [
    "# Question 11\n",
    "\n",
    "def factorial(a):\n",
    "    return 1 if (a==1 or a==0) else a* factorial(a-1);\n",
    "num=2\n",
    "print('Factorial of',2, 'is',\n",
    "     factorial(2))"
   ]
  },
  {
   "cell_type": "code",
   "execution_count": 4,
   "id": "4c2cd413",
   "metadata": {},
   "outputs": [
    {
     "name": "stdout",
     "output_type": "stream",
     "text": [
      "Enter number : 5\n",
      "5  => Prime Number\n"
     ]
    }
   ],
   "source": [
    "# Question 12\n",
    "\n",
    "number = int(input(\"Enter number : \"))\n",
    "if number == 0 or number == 1:\n",
    "    print(number,\" => Neither prime nor composite\")\n",
    "else:\n",
    "    for i in range(2,number):\n",
    "        if(number % i == 0):\n",
    "            print(number,\" => Composite Number\")\n",
    "            break\n",
    "    else:\n",
    "        print(number,\" => Prime Number\")"
   ]
  },
  {
   "cell_type": "code",
   "execution_count": 13,
   "id": "fda8e6f9",
   "metadata": {},
   "outputs": [
    {
     "name": "stdout",
     "output_type": "stream",
     "text": [
      "No\n"
     ]
    }
   ],
   "source": [
    "# Question 13\n",
    "\n",
    "def isPalindrome(x):\n",
    "    return x == x[::-1]\n",
    " \n",
    "x = \"uncle\"\n",
    "ans = isPalindrome(x)\n",
    " \n",
    "if ans:\n",
    "    print(\"Yes\")\n",
    "else:\n",
    "    print(\"No\")"
   ]
  },
  {
   "cell_type": "code",
   "execution_count": 15,
   "id": "04eb2824",
   "metadata": {},
   "outputs": [
    {
     "name": "stdout",
     "output_type": "stream",
     "text": [
      "Yes\n"
     ]
    }
   ],
   "source": [
    "# Question 13\n",
    "\n",
    "a = \"noon\"\n",
    " \n",
    "w = \"\"\n",
    "for i in a:\n",
    "    w = i + w\n",
    " \n",
    "if (a == w):\n",
    "    print(\"Yes\")\n",
    "else:\n",
    "    print(\"No\")"
   ]
  },
  {
   "cell_type": "code",
   "execution_count": 1,
   "id": "28beb1cf",
   "metadata": {},
   "outputs": [
    {
     "name": "stdout",
     "output_type": "stream",
     "text": [
      "Enter base: 4\n",
      "Enter height: 6\n",
      "Enter angle: 50\n",
      "Hypotenuse = 7.211102550927978\n"
     ]
    }
   ],
   "source": [
    "# Question 14\n",
    "\n",
    "import math\n",
    "\n",
    "a = float(input(\"Enter base: \"))\n",
    "b = float(input(\"Enter height: \"))\n",
    "x = float(input(\"Enter angle: \"))\n",
    "\n",
    "c = math.sqrt(a ** 2 + b ** 2)\n",
    "\n",
    "print(\"Hypotenuse =\", c)"
   ]
  },
  {
   "cell_type": "code",
   "execution_count": 2,
   "id": "f8b3f5fe",
   "metadata": {},
   "outputs": [
    {
     "name": "stdout",
     "output_type": "stream",
     "text": [
      "{'K': 1, 'E': 2, 'T': 2, 'A': 2, 'N': 1, ' ': 1, 'P': 1, 'L': 1}\n"
     ]
    }
   ],
   "source": [
    "# Question 15\n",
    "\n",
    "str = \"KETAN PATEL\"\n",
    "\n",
    "dict = {}\n",
    "\n",
    "for i in str:\n",
    " \n",
    "    if i in dict:\n",
    "        dict[i] += 1\n",
    "\n",
    "    else:\n",
    "        dict[i] = 1\n",
    "\n",
    "print(dict)"
   ]
  },
  {
   "cell_type": "code",
   "execution_count": null,
   "id": "d3107dbb",
   "metadata": {},
   "outputs": [],
   "source": []
  }
 ],
 "metadata": {
  "kernelspec": {
   "display_name": "Python 3 (ipykernel)",
   "language": "python",
   "name": "python3"
  },
  "language_info": {
   "codemirror_mode": {
    "name": "ipython",
    "version": 3
   },
   "file_extension": ".py",
   "mimetype": "text/x-python",
   "name": "python",
   "nbconvert_exporter": "python",
   "pygments_lexer": "ipython3",
   "version": "3.9.7"
  }
 },
 "nbformat": 4,
 "nbformat_minor": 5
}
